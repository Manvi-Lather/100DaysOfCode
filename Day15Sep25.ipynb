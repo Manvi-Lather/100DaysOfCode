{
 "cells": [
  {
   "cell_type": "code",
   "execution_count": 1,
   "id": "93d21810",
   "metadata": {},
   "outputs": [
    {
     "name": "stdout",
     "output_type": "stream",
     "text": [
      "7\n"
     ]
    }
   ],
   "source": [
    "n=int(input())\n"
   ]
  },
  {
   "cell_type": "code",
   "execution_count": 2,
   "id": "2fb17bdf",
   "metadata": {},
   "outputs": [
    {
     "data": {
      "text/plain": [
       "'abcdefghijklmnopqrstuvwxyz'"
      ]
     },
     "execution_count": 2,
     "metadata": {},
     "output_type": "execute_result"
    }
   ],
   "source": [
    "alpha = \"abcdefghijklmnopqrstuvwxyz\"\n",
    "alpha"
   ]
  },
  {
   "cell_type": "code",
   "execution_count": 3,
   "id": "5438443f",
   "metadata": {},
   "outputs": [
    {
     "data": {
      "text/plain": [
       "['a', 'b', 'c', 'd', 'e', 'f', 'g']"
      ]
     },
     "execution_count": 3,
     "metadata": {},
     "output_type": "execute_result"
    }
   ],
   "source": [
    "data = [alpha[i] for i in range(n)]\n",
    "data"
   ]
  },
  {
   "cell_type": "code",
   "execution_count": 4,
   "id": "0ba0fbd8",
   "metadata": {},
   "outputs": [
    {
     "data": {
      "text/plain": [
       "[0, 1, 2, 3, 4, 5, 6]"
      ]
     },
     "execution_count": 4,
     "metadata": {},
     "output_type": "execute_result"
    }
   ],
   "source": [
    "items = list(range(n))\n",
    "items "
   ]
  },
  {
   "cell_type": "code",
   "execution_count": 5,
   "id": "a508ac4f",
   "metadata": {},
   "outputs": [],
   "source": [
    "#items = items + items[::-1]\n",
    "#items\n",
    "#####we dont need center item to repeat "
   ]
  },
  {
   "cell_type": "code",
   "execution_count": 6,
   "id": "648eb174",
   "metadata": {},
   "outputs": [
    {
     "data": {
      "text/plain": [
       "[0, 1, 2, 3, 4, 5, 6, 5, 4, 3, 2, 1, 0]"
      ]
     },
     "execution_count": 6,
     "metadata": {},
     "output_type": "execute_result"
    }
   ],
   "source": [
    "\n",
    "items = items[:-1] + items[::-1]\n",
    "items "
   ]
  },
  {
   "cell_type": "code",
   "execution_count": 7,
   "id": "bf99a65e",
   "metadata": {},
   "outputs": [
    {
     "name": "stdout",
     "output_type": "stream",
     "text": [
      "['g']\n",
      "['f', 'g']\n",
      "['e', 'f', 'g']\n",
      "['d', 'e', 'f', 'g']\n",
      "['c', 'd', 'e', 'f', 'g']\n",
      "['b', 'c', 'd', 'e', 'f', 'g']\n",
      "['a', 'b', 'c', 'd', 'e', 'f', 'g']\n",
      "['b', 'c', 'd', 'e', 'f', 'g']\n",
      "['c', 'd', 'e', 'f', 'g']\n",
      "['d', 'e', 'f', 'g']\n",
      "['e', 'f', 'g']\n",
      "['f', 'g']\n",
      "['g']\n"
     ]
    }
   ],
   "source": [
    "for i in items: \n",
    "    start_index=i+1\n",
    "    print(data[-start_index:])"
   ]
  },
  {
   "cell_type": "code",
   "execution_count": 8,
   "id": "384f826e",
   "metadata": {},
   "outputs": [
    {
     "name": "stdout",
     "output_type": "stream",
     "text": [
      "------------g------------\n",
      "----------g-f-g----------\n",
      "--------g-f-e-f-g--------\n",
      "------g-f-e-d-e-f-g------\n",
      "----g-f-e-d-c-d-e-f-g----\n",
      "--g-f-e-d-c-b-c-d-e-f-g--\n",
      "g-f-e-d-c-b-a-b-c-d-e-f-g\n",
      "--g-f-e-d-c-b-c-d-e-f-g--\n",
      "----g-f-e-d-c-d-e-f-g----\n",
      "------g-f-e-d-e-f-g------\n",
      "--------g-f-e-f-g--------\n",
      "----------g-f-g----------\n",
      "------------g------------\n"
     ]
    }
   ],
   "source": [
    "for i in items: \n",
    "    start_index=(i+1)\n",
    "    original=data[-start_index:]\n",
    "    reverse= original[::-1]\n",
    "    row= reverse + original[1:]\n",
    "    row='-'.join(row)\n",
    "    width=n*4-3 \n",
    "    row=row.center(width,\"-\") #string.center(length, character)\n",
    "    print(row)"
   ]
  },
  {
   "cell_type": "code",
   "execution_count": null,
   "id": "3bdb2548",
   "metadata": {},
   "outputs": [],
   "source": []
  }
 ],
 "metadata": {
  "kernelspec": {
   "display_name": "Python 3 (ipykernel)",
   "language": "python",
   "name": "python3"
  },
  "language_info": {
   "codemirror_mode": {
    "name": "ipython",
    "version": 3
   },
   "file_extension": ".py",
   "mimetype": "text/x-python",
   "name": "python",
   "nbconvert_exporter": "python",
   "pygments_lexer": "ipython3",
   "version": "3.9.7"
  }
 },
 "nbformat": 4,
 "nbformat_minor": 5
}
