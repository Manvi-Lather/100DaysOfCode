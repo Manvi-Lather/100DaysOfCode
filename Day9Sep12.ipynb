{
 "cells": [
  {
   "cell_type": "code",
   "execution_count": null,
   "metadata": {},
   "outputs": [],
   "source": [
    "#1.\tWrite code with filter() and lambda function that are equivalent to the following list comprehension \n",
    "#[ i for i in range(1, 100) if not(i%3)]\n",
    "#new1=[i for i in range(1, 100) if not(i%3)]\n",
    "#new1\n"
   ]
  },
  {
   "cell_type": "code",
   "execution_count": null,
   "metadata": {},
   "outputs": [],
   "source": [
    "#solution 1\n",
    "#filter(function, iterable)\n",
    "new= filter(lambda i: not(i%3), range(1,100) )\n",
    "list(new)\n",
    "\n"
   ]
  },
  {
   "cell_type": "code",
   "execution_count": null,
   "metadata": {},
   "outputs": [],
   "source": [
    "#2.Software size is measured in kilobytes or megabytes, e.g., 120K or 1.2M. Assume we have such a variable “size” \n",
    "#using this convention.It will be recognized as a string because of the K or M at the end. As it is in essence a \n",
    "#numerical variable, our program needs to recode it. For instance, 120K should be 120000 after the transformation.Write \n",
    "#a function that transforms the input string (e.g., 120K) to the corresponding number (e.g., 120000) and return the value.\n"
   ]
  },
  {
   "cell_type": "code",
   "execution_count": null,
   "metadata": {},
   "outputs": [],
   "source": [
    "#solution 2\n",
    "def convert(str_num): \n",
    "    size=len(str_num)\n",
    "    last_char=str_num[-1]\n",
    "    num=float(str_num[0:size-1])\n",
    "    result=0\n",
    "    if last_char=='K': \n",
    "        result=num*1000\n",
    "    elif last_char==\"M\":\n",
    "        result=num*1000000\n",
    "    return result\n",
    "        \n",
    "\n",
    "#testing the function    \n",
    "test1=convert(\"120K\")\n",
    "print(res)  \n",
    "test2=convert(\"120M\")\n",
    "print(test2)\n",
    "        \n",
    "        "
   ]
  },
  {
   "cell_type": "code",
   "execution_count": null,
   "metadata": {},
   "outputs": [],
   "source": []
  }
 ],
 "metadata": {
  "kernelspec": {
   "display_name": "Python 3 (ipykernel)",
   "language": "python",
   "name": "python3"
  },
  "language_info": {
   "codemirror_mode": {
    "name": "ipython",
    "version": 3
   },
   "file_extension": ".py",
   "mimetype": "text/x-python",
   "name": "python",
   "nbconvert_exporter": "python",
   "pygments_lexer": "ipython3",
   "version": "3.9.7"
  }
 },
 "nbformat": 4,
 "nbformat_minor": 4
}
