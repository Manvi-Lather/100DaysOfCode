{
 "cells": [
  {
   "cell_type": "code",
   "execution_count": null,
   "id": "32dbc7f9",
   "metadata": {},
   "outputs": [],
   "source": [
    "#Tuples"
   ]
  },
  {
   "cell_type": "code",
   "execution_count": 1,
   "id": "5ed5e0c5",
   "metadata": {
    "scrolled": true
   },
   "outputs": [
    {
     "data": {
      "text/plain": [
       "(4, 5, 6)"
      ]
     },
     "execution_count": 1,
     "metadata": {},
     "output_type": "execute_result"
    }
   ],
   "source": [
    "#Tuples\n",
    "tup=4,5,6\n",
    "tup\n"
   ]
  },
  {
   "cell_type": "code",
   "execution_count": 4,
   "id": "528d12a4",
   "metadata": {},
   "outputs": [
    {
     "data": {
      "text/plain": [
       "tuple"
      ]
     },
     "execution_count": 4,
     "metadata": {},
     "output_type": "execute_result"
    }
   ],
   "source": [
    "#checking the type\n",
    "type(tup)"
   ]
  },
  {
   "cell_type": "code",
   "execution_count": 5,
   "id": "023df279",
   "metadata": {},
   "outputs": [
    {
     "data": {
      "text/plain": [
       "((4, 3, 2), (2, 3))"
      ]
     },
     "execution_count": 5,
     "metadata": {},
     "output_type": "execute_result"
    }
   ],
   "source": [
    "#creating nested tuple\n",
    "nest_tup=(4,3,2),(2,3)\n",
    "nest_tup"
   ]
  },
  {
   "cell_type": "code",
   "execution_count": 7,
   "id": "1bda9ba6",
   "metadata": {},
   "outputs": [
    {
     "name": "stdout",
     "output_type": "stream",
     "text": [
      "(1, 2, 3)\n",
      "('m', 'a', 'n', 'v', 'i')\n"
     ]
    }
   ],
   "source": [
    "#invoking tuples\n",
    "#converting list to tuple\n",
    "ls=[1,2,3]\n",
    "print(tuple(ls))\n",
    "#converting String to tuple\n",
    "st=\"manvi\"\n",
    "print(tuple(st))"
   ]
  },
  {
   "cell_type": "code",
   "execution_count": 26,
   "id": "1c506e6e",
   "metadata": {},
   "outputs": [
    {
     "data": {
      "text/plain": [
       "3"
      ]
     },
     "execution_count": 26,
     "metadata": {},
     "output_type": "execute_result"
    }
   ],
   "source": [
    "#accessing the tuple elements using[]\n",
    "\n",
    "tup=1,2,3,4\n",
    "tup[2]"
   ]
  },
  {
   "cell_type": "code",
   "execution_count": 41,
   "id": "774303e5",
   "metadata": {},
   "outputs": [
    {
     "data": {
      "text/plain": [
       "2"
      ]
     },
     "execution_count": 41,
     "metadata": {},
     "output_type": "execute_result"
    }
   ],
   "source": [
    "#tuple has two method: count and index:\n",
    "\n",
    "#count the number of time an element occured in tuple\n",
    "\n",
    "tup=(1,1,2,3,4,5,'a','b','a')\n",
    "tup.count('a')"
   ]
  },
  {
   "cell_type": "code",
   "execution_count": 42,
   "id": "9c554f0e",
   "metadata": {},
   "outputs": [
    {
     "data": {
      "text/plain": [
       "0"
      ]
     },
     "execution_count": 42,
     "metadata": {},
     "output_type": "execute_result"
    }
   ],
   "source": [
    "#check the index of an element \n",
    "#it gives the index at which element exit for the very first time.\n",
    "\n",
    "tup=(1,1,2,3,4,5,'a','b','a')\n",
    "tup.index(1)"
   ]
  },
  {
   "cell_type": "code",
   "execution_count": 21,
   "id": "eb1b708f",
   "metadata": {},
   "outputs": [
    {
     "name": "stdout",
     "output_type": "stream",
     "text": [
      "(1, 2, 3, [11, 22, 33], 4, 5, 6)\n",
      "(1, 2, 3, [11, 22, 33, 'manvi'], 4, 5, 6)\n",
      "(1, 2, 3, [11, 22, 33, 'manvi', 44], 4, 5, 6)\n"
     ]
    }
   ],
   "source": [
    "#Tuples are immutable. However, if an object inside a tuple is mutable, such as a list, we can modify it in-place.\n",
    "\n",
    "tup=(1,2,3,[11,22,33],4,5,6)\n",
    "print(tup)\n",
    "\n",
    "#append at index 3\n",
    "tup[3].append(\"manvi\")\n",
    "print(tup)\n",
    "tup[3].append(44)\n",
    "print(tup)"
   ]
  },
  {
   "cell_type": "code",
   "execution_count": 30,
   "id": "6651cd35",
   "metadata": {},
   "outputs": [
    {
     "data": {
      "text/plain": [
       "(2, 3, 4, 5, 'a', 'b', 'c', 'bar')"
      ]
     },
     "execution_count": 30,
     "metadata": {},
     "output_type": "execute_result"
    }
   ],
   "source": [
    "# we can concatenate tuples using + opertor \n",
    "\n",
    "tup1 = (2,3,4,5)\n",
    "tup2=('a','b','c')\n",
    "tup3=('bar',) # notice the comma used inside the tuple.\n",
    "final=tup1+tup2+tup3\n",
    "final"
   ]
  },
  {
   "cell_type": "code",
   "execution_count": 31,
   "id": "af790ad6",
   "metadata": {},
   "outputs": [
    {
     "data": {
      "text/plain": [
       "('foo', 'bar', 'foo', 'bar', 'foo', 'bar', 'foo', 'bar')"
      ]
     },
     "execution_count": 31,
     "metadata": {},
     "output_type": "execute_result"
    }
   ],
   "source": [
    "#multiplying a tuple by an interger\n",
    "\n",
    "tup=('foo','bar')*4\n",
    "tup"
   ]
  },
  {
   "cell_type": "code",
   "execution_count": 32,
   "id": "c5afb8e8",
   "metadata": {},
   "outputs": [
    {
     "data": {
      "text/plain": [
       "5"
      ]
     },
     "execution_count": 32,
     "metadata": {},
     "output_type": "execute_result"
    }
   ],
   "source": [
    "#unpacking tuples\n",
    "tup=(4,5,6)\n",
    "a,b,c = tup\n",
    "b\n"
   ]
  },
  {
   "cell_type": "code",
   "execution_count": 34,
   "id": "469f5b8d",
   "metadata": {},
   "outputs": [
    {
     "data": {
      "text/plain": [
       "7"
      ]
     },
     "execution_count": 34,
     "metadata": {},
     "output_type": "execute_result"
    }
   ],
   "source": [
    "#sequence with nested tuples can also be unpacked\n",
    "\n",
    "tup=4,5,(6,7)\n",
    "a,b,(c,d)=tup\n",
    "d"
   ]
  },
  {
   "cell_type": "code",
   "execution_count": 40,
   "id": "fc9a5e26",
   "metadata": {},
   "outputs": [
    {
     "data": {
      "text/plain": [
       "3"
      ]
     },
     "execution_count": 40,
     "metadata": {},
     "output_type": "execute_result"
    }
   ],
   "source": [
    "#length of tuple\n",
    "\n",
    "len(tup)"
   ]
  },
  {
   "cell_type": "code",
   "execution_count": 38,
   "id": "6592db5d",
   "metadata": {},
   "outputs": [
    {
     "name": "stdout",
     "output_type": "stream",
     "text": [
      "1\n",
      "2\n",
      "2\n",
      "1\n"
     ]
    }
   ],
   "source": [
    "#swaping the variables name\n",
    "\n",
    "a,b=1,2\n",
    "print(a)\n",
    "print(b)\n",
    "\n",
    "a,b=b,a # swaping the variables name\n",
    "\n",
    "print(a)\n",
    "print(b)"
   ]
  },
  {
   "cell_type": "code",
   "execution_count": 39,
   "id": "96407ee5",
   "metadata": {},
   "outputs": [
    {
     "name": "stdout",
     "output_type": "stream",
     "text": [
      "a=1,b=2,c=3\n",
      "a=4,b=5,c=6\n",
      "a=7,b=8,c=9\n"
     ]
    }
   ],
   "source": [
    "# we can use variable unpacking for iterating over sequences of tuples or lists. \n",
    "seq=[(1,2,3),(4,5,6),(7,8,9)]\n",
    "\n",
    "for a,b,c in seq: \n",
    "    print('a={0},b={1},c={2}'.format(a,b,c))"
   ]
  },
  {
   "cell_type": "code",
   "execution_count": 46,
   "id": "899b1e84",
   "metadata": {},
   "outputs": [
    {
     "name": "stdout",
     "output_type": "stream",
     "text": [
      "1 2\n",
      "[3, 4, 5]\n"
     ]
    }
   ],
   "source": [
    "#\n",
    "\n",
    "values = 1,2,3,4,5\n",
    "\n",
    "a,b,*rest = values\n",
    "\n",
    "print(a,b)\n",
    "print(rest)"
   ]
  },
  {
   "cell_type": "code",
   "execution_count": null,
   "id": "eb031a46",
   "metadata": {},
   "outputs": [],
   "source": [
    "#List \n",
    "List are mutable."
   ]
  },
  {
   "cell_type": "code",
   "execution_count": 48,
   "id": "81ece6ad",
   "metadata": {},
   "outputs": [
    {
     "data": {
      "text/plain": [
       "['foo', 'bar', 'baz']"
      ]
     },
     "execution_count": 48,
     "metadata": {},
     "output_type": "execute_result"
    }
   ],
   "source": [
    "a_list= [2,3,7,None]\n",
    "tup=('foo','bar','baz')\n",
    "b_list=list(tup)\n",
    "b_list"
   ]
  },
  {
   "cell_type": "code",
   "execution_count": 52,
   "id": "55032bb6",
   "metadata": {},
   "outputs": [
    {
     "data": {
      "text/plain": [
       "[0, 1, 2, 3, 4, 5, 6, 7, 8, 9]"
      ]
     },
     "execution_count": 52,
     "metadata": {},
     "output_type": "execute_result"
    }
   ],
   "source": [
    "gen= range(10)\n",
    "gen\n",
    "list(gen)"
   ]
  },
  {
   "cell_type": "code",
   "execution_count": 61,
   "id": "30730838",
   "metadata": {},
   "outputs": [
    {
     "name": "stdout",
     "output_type": "stream",
     "text": [
      "[0, 1, 2, 3, 4, 5, 6, 7, 8, 9]\n",
      "append output: [0, 1, 2, 3, 4, 5, 6, 7, 8, 9, 'Test']\n",
      "insert output: [0, 1, 2, 3, 'hello', 4, 5, 6, 7, 8, 9, 'Test']\n"
     ]
    }
   ],
   "source": [
    "#Adding and removing elements:\n",
    "\n",
    "#adding value :\n",
    "\n",
    "#creating a list \n",
    "\n",
    "gen= list(range(10))\n",
    "print(gen)\n",
    "\n",
    "\n",
    "#using append \n",
    "gen.append(\"Test\")\n",
    "print(\"append output:\",gen)\n",
    "\n",
    "#using insert \n",
    "\n",
    "gen.insert(4,\"hello\")\n",
    "#speciality of insert function is that You can give location(index)\n",
    "print(\"insert output:\", gen)\n",
    "\n"
   ]
  },
  {
   "cell_type": "code",
   "execution_count": 65,
   "id": "a47e8de7",
   "metadata": {},
   "outputs": [
    {
     "name": "stdout",
     "output_type": "stream",
     "text": [
      "5\n",
      "[0, 1, 2, 3, 6, 7, 8, 9, 'Test', 'hello']\n"
     ]
    }
   ],
   "source": [
    "#removing elements: \n",
    "\n",
    "#using pop function: \n",
    "#it remove and return an element at particular index\n",
    "\n",
    "pop_out=gen.pop(4)\n",
    "print(pop_out)\n",
    "\n",
    "print(gen)"
   ]
  },
  {
   "cell_type": "code",
   "execution_count": 69,
   "id": "890452b1",
   "metadata": {},
   "outputs": [
    {
     "name": "stdout",
     "output_type": "stream",
     "text": [
      "[0, 1, 2, 3, 4, 5, 6, 7, 8, 9]\n",
      "[0, 1, 2, 3, 4, 5, 6, 7, 8]\n"
     ]
    }
   ],
   "source": [
    "#using remove function: \n",
    "# removes the first occurance of the element: \n",
    "\n",
    "ls= list(range(10))\n",
    "print(ls)\n",
    "ls.remove(9)\n",
    "print(ls)"
   ]
  },
  {
   "cell_type": "code",
   "execution_count": 70,
   "id": "10cc8a5b",
   "metadata": {},
   "outputs": [
    {
     "data": {
      "text/plain": [
       "True"
      ]
     },
     "execution_count": 70,
     "metadata": {},
     "output_type": "execute_result"
    }
   ],
   "source": [
    "#check if a value exist in a list\n",
    "\n",
    "2 in ls"
   ]
  },
  {
   "cell_type": "code",
   "execution_count": 76,
   "id": "df412825",
   "metadata": {},
   "outputs": [
    {
     "name": "stdout",
     "output_type": "stream",
     "text": [
      "[1, 2, 3, 4, 5]\n",
      "[6, 7, 8, 9, 10]\n",
      "final_lsit:  [1, 2, 3, 4, 5, 6, 7, 8, 9, 10]\n"
     ]
    }
   ],
   "source": [
    "#concatenation in list\n",
    "\n",
    "ls1=list(range(1,6))\n",
    "print(ls1)\n",
    "ls2=list(range(6,11))\n",
    "print(ls2)\n",
    "\n",
    "print(\"final_lsit: \",(ls1+ls2))"
   ]
  },
  {
   "cell_type": "code",
   "execution_count": 82,
   "id": "1f8ced4c",
   "metadata": {},
   "outputs": [
    {
     "name": "stdout",
     "output_type": "stream",
     "text": [
      "ls1 [1, 2, 3, 4, 5, 6, 7, 8, 9, 10]\n",
      "ls1 after extend:  [1, 2, 3, 4, 5, 6, 7, 8, 9, 10, 11, 12, 13, 14]\n"
     ]
    }
   ],
   "source": [
    "#we can use extend to concatenate multiple elements to a list. \n",
    "\n",
    "ls1=list(range(1,11))\n",
    "print(\"ls1\",ls1)\n",
    "\n",
    "\n",
    "#extend\n",
    "\n",
    "ls1.extend([11,12,13,14])\n",
    "\n",
    "print(\"ls1 after extend: \",ls1)"
   ]
  },
  {
   "cell_type": "code",
   "execution_count": null,
   "id": "ddfaa067",
   "metadata": {},
   "outputs": [],
   "source": [
    "#speed \n",
    "\n",
    "everything =[]\n",
    "for chunk in list_of_lists: \n",
    "    everything.extend(chuck)\n",
    "\n",
    "#is faster than the concatenation method: \n",
    "\n",
    "everything=[]\n",
    "for chuck in list_of_lists: \n",
    "    everything=everything+ chuck\n",
    "    "
   ]
  },
  {
   "cell_type": "code",
   "execution_count": 86,
   "id": "5891011b",
   "metadata": {},
   "outputs": [
    {
     "data": {
      "text/plain": [
       "[1, 2, 3, 5, 7]"
      ]
     },
     "execution_count": 86,
     "metadata": {},
     "output_type": "execute_result"
    }
   ],
   "source": [
    "#sort a list \n",
    "#sort function sort a list inplace.\n",
    "\n",
    "a=[7,2,5,1,3]\n",
    "\n",
    "a.sort()\n",
    "\n",
    "a\n"
   ]
  },
  {
   "cell_type": "code",
   "execution_count": 98,
   "id": "43c9d16d",
   "metadata": {},
   "outputs": [
    {
     "data": {
      "text/plain": [
       "['a', 'ha', 'saw', 'man', 'him', 'coming', 'towards']"
      ]
     },
     "execution_count": 98,
     "metadata": {},
     "output_type": "execute_result"
    }
   ],
   "source": [
    "#option available with sort\n",
    "\n",
    "b=['ha','saw','a','man','coming','towards','him']\n",
    "\n",
    "b.sort(key=len)\n",
    "\n",
    "b"
   ]
  },
  {
   "cell_type": "code",
   "execution_count": 100,
   "id": "813cc821",
   "metadata": {},
   "outputs": [
    {
     "name": "stdout",
     "output_type": "stream",
     "text": [
      "['towards', 'saw', 'man', 'him', 'ha', 'coming', 'a']\n"
     ]
    }
   ],
   "source": [
    "b.sort(reverse=1)\n",
    "print(b)"
   ]
  },
  {
   "cell_type": "code",
   "execution_count": 112,
   "id": "1663321d",
   "metadata": {},
   "outputs": [
    {
     "data": {
      "text/plain": [
       "[1, 1, 2, 3, 4, 6, 7]"
      ]
     },
     "execution_count": 112,
     "metadata": {},
     "output_type": "execute_result"
    }
   ],
   "source": [
    "#Binary search and maintaining sorted list\n",
    "\n",
    "import bisect \n",
    "\n",
    "#the built in bisect module implements binary search and insertions into a sorted list.\n",
    "\n",
    "#bisect.bisect finds the location where an element should be inserted to keep it sorted. \n",
    "\n",
    "#bisect.insort insert the element into that location. \n",
    "\n",
    "\n",
    "c=[1,1,2,3,4,6,8]\n",
    "c"
   ]
  },
  {
   "cell_type": "code",
   "execution_count": 113,
   "id": "44e81149",
   "metadata": {},
   "outputs": [
    {
     "data": {
      "text/plain": [
       "5"
      ]
     },
     "execution_count": 113,
     "metadata": {},
     "output_type": "execute_result"
    }
   ],
   "source": [
    "bisect.bisect(c,5)"
   ]
  },
  {
   "cell_type": "code",
   "execution_count": 115,
   "id": "d75939df",
   "metadata": {},
   "outputs": [
    {
     "data": {
      "text/plain": [
       "7"
      ]
     },
     "execution_count": 115,
     "metadata": {},
     "output_type": "execute_result"
    }
   ],
   "source": [
    "bisect.bisect(c,7)"
   ]
  },
  {
   "cell_type": "code",
   "execution_count": 118,
   "id": "dce9ee51",
   "metadata": {},
   "outputs": [],
   "source": [
    "bisect.insort(c,8)"
   ]
  },
  {
   "cell_type": "code",
   "execution_count": 119,
   "id": "06dbf9e3",
   "metadata": {},
   "outputs": [
    {
     "data": {
      "text/plain": [
       "[1, 1, 2, 3, 4, 6, 7, 7, 8]"
      ]
     },
     "execution_count": 119,
     "metadata": {},
     "output_type": "execute_result"
    }
   ],
   "source": [
    "c"
   ]
  },
  {
   "cell_type": "code",
   "execution_count": 120,
   "id": "5665fcc8",
   "metadata": {},
   "outputs": [],
   "source": [
    "bisect.insort(c,5)"
   ]
  },
  {
   "cell_type": "code",
   "execution_count": 121,
   "id": "c68f5916",
   "metadata": {},
   "outputs": [
    {
     "data": {
      "text/plain": [
       "[1, 1, 2, 3, 4, 5, 6, 7, 7, 8]"
      ]
     },
     "execution_count": 121,
     "metadata": {},
     "output_type": "execute_result"
    }
   ],
   "source": [
    "c"
   ]
  },
  {
   "cell_type": "code",
   "execution_count": 125,
   "id": "8095d79c",
   "metadata": {},
   "outputs": [
    {
     "name": "stdout",
     "output_type": "stream",
     "text": [
      "[1, 2, 3, 4, 5, 6, 7, 8, 9, 10]\n"
     ]
    },
    {
     "data": {
      "text/plain": [
       "[2, 3, 4, 5]"
      ]
     },
     "execution_count": 125,
     "metadata": {},
     "output_type": "execute_result"
    }
   ],
   "source": [
    "#slicing\n",
    "\n",
    "seq=list(range(1,11))\n",
    "print(seq)\n",
    "\n",
    "seq[1:5]"
   ]
  },
  {
   "cell_type": "code",
   "execution_count": 127,
   "id": "c1732120",
   "metadata": {},
   "outputs": [
    {
     "data": {
      "text/plain": [
       "[1, 2, 3, 4, 5]"
      ]
     },
     "execution_count": 127,
     "metadata": {},
     "output_type": "execute_result"
    }
   ],
   "source": [
    "seq[:5]"
   ]
  },
  {
   "cell_type": "code",
   "execution_count": 128,
   "id": "2d28fcfc",
   "metadata": {},
   "outputs": [
    {
     "data": {
      "text/plain": [
       "[1, 2, 3]"
      ]
     },
     "execution_count": 128,
     "metadata": {},
     "output_type": "execute_result"
    }
   ],
   "source": [
    "seq[:3]"
   ]
  },
  {
   "cell_type": "code",
   "execution_count": 129,
   "id": "f4f27478",
   "metadata": {},
   "outputs": [
    {
     "data": {
      "text/plain": [
       "7"
      ]
     },
     "execution_count": 129,
     "metadata": {},
     "output_type": "execute_result"
    }
   ],
   "source": [
    "seq[-4]"
   ]
  },
  {
   "cell_type": "code",
   "execution_count": 130,
   "id": "6185174a",
   "metadata": {},
   "outputs": [
    {
     "data": {
      "text/plain": [
       "[10, 9, 8, 7, 6, 5, 4, 3, 2, 1]"
      ]
     },
     "execution_count": 130,
     "metadata": {},
     "output_type": "execute_result"
    }
   ],
   "source": [
    "seq[::-1] # reverse the list "
   ]
  },
  {
   "cell_type": "code",
   "execution_count": 134,
   "id": "aa6088b2",
   "metadata": {},
   "outputs": [
    {
     "data": {
      "text/plain": [
       "[0, 1, 2, 3, 4, 5, 6, 7, 8, 9]"
      ]
     },
     "execution_count": 134,
     "metadata": {},
     "output_type": "execute_result"
    }
   ],
   "source": [
    "seq=list(range(0,10))\n",
    "seq"
   ]
  },
  {
   "cell_type": "code",
   "execution_count": 135,
   "id": "ffafb14b",
   "metadata": {},
   "outputs": [
    {
     "data": {
      "text/plain": [
       "4"
      ]
     },
     "execution_count": 135,
     "metadata": {},
     "output_type": "execute_result"
    }
   ],
   "source": [
    "seq[-6]"
   ]
  },
  {
   "cell_type": "code",
   "execution_count": 136,
   "id": "22d52b82",
   "metadata": {},
   "outputs": [
    {
     "data": {
      "text/plain": [
       "8"
      ]
     },
     "execution_count": 136,
     "metadata": {},
     "output_type": "execute_result"
    }
   ],
   "source": [
    "seq[-2]"
   ]
  },
  {
   "cell_type": "code",
   "execution_count": 137,
   "id": "3b98e83b",
   "metadata": {},
   "outputs": [
    {
     "data": {
      "text/plain": [
       "[4, 5, 6, 7]"
      ]
     },
     "execution_count": 137,
     "metadata": {},
     "output_type": "execute_result"
    }
   ],
   "source": [
    "seq[-6:-2]"
   ]
  },
  {
   "cell_type": "code",
   "execution_count": 138,
   "id": "c4204de7",
   "metadata": {},
   "outputs": [
    {
     "data": {
      "text/plain": [
       "[0, 2, 4, 6, 8]"
      ]
     },
     "execution_count": 138,
     "metadata": {},
     "output_type": "execute_result"
    }
   ],
   "source": [
    "seq[::2]"
   ]
  },
  {
   "cell_type": "code",
   "execution_count": 140,
   "id": "43576225",
   "metadata": {},
   "outputs": [
    {
     "data": {
      "text/plain": [
       "{'foo': 0, 'bar': 1, 'baz': 2}"
      ]
     },
     "execution_count": 140,
     "metadata": {},
     "output_type": "execute_result"
    }
   ],
   "source": [
    "#built-in Sequence functions \n",
    "\n",
    "\n",
    "#mapping \n",
    "#enumerate : its common to use when iterating over a sequence and you want to keep track of index. It return a sequence of\n",
    "#(i,value) tuples: \n",
    "\n",
    "ls= ['foo','bar','baz']\n",
    "mapping={}\n",
    "for i, v in enumerate(ls): \n",
    "    mapping[v]=i\n",
    "mapping"
   ]
  },
  {
   "cell_type": "code",
   "execution_count": 141,
   "id": "54a3aa64",
   "metadata": {},
   "outputs": [
    {
     "data": {
      "text/plain": [
       "dict"
      ]
     },
     "execution_count": 141,
     "metadata": {},
     "output_type": "execute_result"
    }
   ],
   "source": [
    "type(mapping)"
   ]
  },
  {
   "cell_type": "code",
   "execution_count": 146,
   "id": "f763b8ac",
   "metadata": {},
   "outputs": [
    {
     "name": "stdout",
     "output_type": "stream",
     "text": [
      "['a', 'c', 'e', 'e', 'h', 'o', 'r', 'r', 's']\n",
      "[0, 2, 3, 3, 4, 5]\n"
     ]
    }
   ],
   "source": [
    "#sorted \n",
    "\n",
    "print(sorted('horserace'))\n",
    "\n",
    "print(sorted([0,3,4,5,2,3]))\n"
   ]
  },
  {
   "cell_type": "code",
   "execution_count": 151,
   "id": "6116750f",
   "metadata": {},
   "outputs": [
    {
     "data": {
      "text/plain": [
       "[('zoo', 'one'), ('bar', 'two'), ('flower', 'three')]"
      ]
     },
     "execution_count": 151,
     "metadata": {},
     "output_type": "execute_result"
    }
   ],
   "source": [
    "#zip Created tuples. \n",
    "#pair up the elements of lists, tuples or other sequences. \n",
    "\n",
    "seq1=['zoo','bar','flower']\n",
    "seq2=['one','two','three']\n",
    "\n",
    "zipped=zip(seq1,seq2)\n",
    "\n",
    "list(zipped)"
   ]
  },
  {
   "cell_type": "code",
   "execution_count": 152,
   "id": "eedb5e87",
   "metadata": {},
   "outputs": [
    {
     "data": {
      "text/plain": [
       "[9, 8, 7, 6, 5, 4, 3, 2, 1, 0]"
      ]
     },
     "execution_count": 152,
     "metadata": {},
     "output_type": "execute_result"
    }
   ],
   "source": [
    "#reversed\n",
    "\n",
    "list(reversed(range(10)))"
   ]
  },
  {
   "cell_type": "code",
   "execution_count": 153,
   "id": "8dd67fe3",
   "metadata": {},
   "outputs": [
    {
     "data": {
      "text/plain": [
       "{'a': 'some value', 'b': [1, 2, 3, 4]}"
      ]
     },
     "execution_count": 153,
     "metadata": {},
     "output_type": "execute_result"
    }
   ],
   "source": [
    "#dictionary \n",
    "\n",
    "empty_dict={}\n",
    "\n",
    "d1={'a':'some value','b':[1,2,3,4]}\n",
    "\n",
    "d1"
   ]
  },
  {
   "cell_type": "code",
   "execution_count": 155,
   "id": "62e2dcda",
   "metadata": {},
   "outputs": [
    {
     "data": {
      "text/plain": [
       "{'a': 'some value', 'b': [1, 2, 3, 4], 7: 'an interger'}"
      ]
     },
     "execution_count": 155,
     "metadata": {},
     "output_type": "execute_result"
    }
   ],
   "source": [
    "d1[7]='an interger'\n",
    "\n",
    "d1"
   ]
  },
  {
   "cell_type": "code",
   "execution_count": 157,
   "id": "67ebf287",
   "metadata": {},
   "outputs": [
    {
     "data": {
      "text/plain": [
       "True"
      ]
     },
     "execution_count": 157,
     "metadata": {},
     "output_type": "execute_result"
    }
   ],
   "source": [
    "#check if a key exist is in dictionary \n",
    "\n",
    "'b' in d1\n"
   ]
  },
  {
   "cell_type": "code",
   "execution_count": 164,
   "id": "7d9814d2",
   "metadata": {},
   "outputs": [
    {
     "name": "stdout",
     "output_type": "stream",
     "text": [
      "{'a': 'some value', 'b': [1, 2, 3, 4], 7: 'apple', 'c': [11, 22, 33]}\n",
      "{'a': 'some value', 'b': [1, 2, 3, 4], 7: 'apple', 'c': [11, 22, 33], 'e': [11, 22, 33], 'f': 'apple'}\n"
     ]
    }
   ],
   "source": [
    "#merge one dict into another using the update method\n",
    "\n",
    "print(d1)\n",
    "\n",
    "d1.update({'e':[11,22,33],'f':\"apple\"})\n",
    "\n",
    "print(d1)"
   ]
  },
  {
   "cell_type": "code",
   "execution_count": null,
   "id": "da49057e",
   "metadata": {},
   "outputs": [],
   "source": []
  }
 ],
 "metadata": {
  "kernelspec": {
   "display_name": "Python 3 (ipykernel)",
   "language": "python",
   "name": "python3"
  },
  "language_info": {
   "codemirror_mode": {
    "name": "ipython",
    "version": 3
   },
   "file_extension": ".py",
   "mimetype": "text/x-python",
   "name": "python",
   "nbconvert_exporter": "python",
   "pygments_lexer": "ipython3",
   "version": "3.9.7"
  }
 },
 "nbformat": 4,
 "nbformat_minor": 5
}
