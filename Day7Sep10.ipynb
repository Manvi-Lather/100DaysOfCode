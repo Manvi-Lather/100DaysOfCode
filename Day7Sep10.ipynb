{
 "cells": [
  {
   "cell_type": "code",
   "execution_count": 23,
   "id": "d27d5318",
   "metadata": {},
   "outputs": [],
   "source": [
    "import numpy as np \n",
    "import pandas as pd \n",
    "import matplotlib.pyplot as plt"
   ]
  },
  {
   "cell_type": "code",
   "execution_count": 24,
   "id": "7e993022",
   "metadata": {},
   "outputs": [
    {
     "name": "stdout",
     "output_type": "stream",
     "text": [
      "[0 1 2 3 4]\n"
     ]
    }
   ],
   "source": [
    "#creating bar graph\n",
    "\n",
    "x= np.arange(5)\n",
    "print(x)"
   ]
  },
  {
   "cell_type": "code",
   "execution_count": 25,
   "id": "d0798973",
   "metadata": {},
   "outputs": [
    {
     "data": {
      "text/plain": [
       "<function matplotlib.pyplot.show(close=None, block=None)>"
      ]
     },
     "execution_count": 25,
     "metadata": {},
     "output_type": "execute_result"
    },
    {
     "data": {
      "image/png": "[encoded data removed]",
      "text/plain": [
       "<Figure size 432x288 with 1 Axes>"
      ]
     },
     "metadata": {
      "needs_background": "light"
     },
     "output_type": "display_data"
    }
   ],
   "source": [
    "y=[10,30,50,25,40]\n",
    "z=[25,30,10,20,70]\n",
    "plt.bar(x,y,color='y',width=0.5)#staced bar graph\n",
    "plt.bar(x,z,color='g',width=0.5)#staced bar graph\n",
    "plt.show"
   ]
  },
  {
   "cell_type": "code",
   "execution_count": 26,
   "id": "11332062",
   "metadata": {},
   "outputs": [
    {
     "data": {
      "text/plain": [
       "<function matplotlib.pyplot.show(close=None, block=None)>"
      ]
     },
     "execution_count": 26,
     "metadata": {},
     "output_type": "execute_result"
    },
    {
     "data": {
      "image/png": "[encoded data removed]",
      "text/plain": [
       "<Figure size 432x288 with 1 Axes>"
      ]
     },
     "metadata": {
      "needs_background": "light"
     },
     "output_type": "display_data"
    }
   ],
   "source": [
    "#side by side graph\n",
    "\n",
    "x= np.arange(5)\n",
    "y=[10,30,50,25,40]\n",
    "z=[25,30,10,20,70]\n",
    "\n",
    "plt.bar(x+0,y,color='r',width=0.4,label=\"A\")\n",
    "plt.bar(x+0.4,z,color='g',width=0.4,label=\"B\")\n",
    "\n",
    "plt.legend()\n",
    "plt.show"
   ]
  },
  {
   "cell_type": "code",
   "execution_count": 30,
   "id": "067eca68",
   "metadata": {},
   "outputs": [
    {
     "name": "stderr",
     "output_type": "stream",
     "text": [
      "C:\\Users\\manvi\\AppData\\Local\\Temp/ipykernel_10980/2716813821.py:24: UserWarning: FixedFormatter should only be used together with FixedLocator\n",
      "  ax.axes.set_xticklabels(names)\n"
     ]
    },
    {
     "data": {
      "image/png": "[encoded data removed]",
      "text/plain": [
       "<Figure size 432x288 with 1 Axes>"
      ]
     },
     "metadata": {
      "needs_background": "light"
     },
     "output_type": "display_data"
    }
   ],
   "source": [
    "import numpy as np\n",
    "import matplotlib.pyplot as plt\n",
    "\n",
    "\n",
    "womenMeans = (25, 32, 34, 20, 25)\n",
    "\n",
    "menMeans = (20, 35, 30, 35, 27)\n",
    "\n",
    "indices = range(len(womenMeans))\n",
    "\n",
    "names = ['Asian','European','North Amercian','African','Austrailian','Martian']\n",
    "\n",
    "# Calculate optimal width\n",
    "\n",
    "width = np.min(np.diff(indices))/3.\n",
    "\n",
    "fig = plt.figure()\n",
    "\n",
    "ax = fig.add_subplot(111)\n",
    "\n",
    "ax.bar(indices-width/2.,womenMeans,width,color='b',label='-Ymin')\n",
    "ax.bar(indices+width/2.,menMeans,width,color='r',label='Ymax')\n",
    "\n",
    "#tiks = ax.get_xticks().tolist()\n",
    "ax.axes.set_xticklabels(names)\n",
    "ax.set_xlabel('Test histogram')\n",
    "\n",
    "plt.show()"
   ]
  },
  {
   "cell_type": "code",
   "execution_count": null,
   "id": "e0041cae",
   "metadata": {},
   "outputs": [],
   "source": []
  }
 ],
 "metadata": {
  "kernelspec": {
   "display_name": "Python 3 (ipykernel)",
   "language": "python",
   "name": "python3"
  },
  "language_info": {
   "codemirror_mode": {
    "name": "ipython",
    "version": 3
   },
   "file_extension": ".py",
   "mimetype": "text/x-python",
   "name": "python",
   "nbconvert_exporter": "python",
   "pygments_lexer": "ipython3",
   "version": "3.9.7"
  }
 },
 "nbformat": 4,
 "nbformat_minor": 5
}
