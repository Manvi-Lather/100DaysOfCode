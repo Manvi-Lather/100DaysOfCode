{
 "cells": [
  {
   "cell_type": "code",
   "execution_count": 21,
   "metadata": {},
   "outputs": [
    {
     "name": "stdout",
     "output_type": "stream",
     "text": [
      "5\n",
      "enter the name -> a\n",
      "enter the marks -> 1\n",
      "enter the name -> b\n",
      "enter the marks -> 1\n",
      "enter the name -> c\n",
      "enter the marks -> 2\n",
      "enter the name -> d\n",
      "enter the marks -> 4\n",
      "enter the name -> e\n",
      "enter the marks -> 2\n",
      "c\n",
      "e\n"
     ]
    }
   ],
   "source": [
    "No_stud= input()\n",
    "stud_list=[]\n",
    "for i in range(int(No_stud)):\n",
    "    name = input(\"enter the name -> \")\n",
    "    score = float(input(\"enter the marks -> \"))\n",
    "    new_stud=[name,score]\n",
    "    stud_list.append(new_stud)\n",
    "\n",
    "#lowest marks\n",
    "\n",
    "def lowest(stud_list): \n",
    "    lowest=stud_list[0]\n",
    "    lowest_list=[]\n",
    "    for i in stud_list: \n",
    "        if i[1]<lowest[1]: \n",
    "            lowest=i\n",
    "            lowest_list.clear()\n",
    "            lowest_list.append(lowest)\n",
    "            \n",
    "        elif i[1] == lowest[1]: \n",
    "            lowest_list.append(i)\n",
    "            \n",
    "    return lowest_list\n",
    "\n",
    "#second lowest\n",
    "\n",
    "def sec_low(stud_list): \n",
    "    low_ls=lowest(stud_list)\n",
    "    low =low_ls[0]\n",
    "    sec_low_list=[]\n",
    "    for i in stud_list: \n",
    "        if i[1]>low[1]:\n",
    "            sec_low_list.append(i)\n",
    "    return lowest(sec_low_list)\n",
    "\n",
    "\n",
    "#fetch the name in alphabetical order\n",
    "\n",
    "result = sec_low(stud_list)\n",
    "names=[]\n",
    "for i in result: \n",
    "    names.append(i[0])\n",
    "names.sort()\n",
    "for seclow_name in names: \n",
    "    print(seclow_name)\n",
    "            \n",
    "        \n",
    "        \n",
    "\n",
    "  \n",
    "    "
   ]
  },
  {
   "cell_type": "code",
   "execution_count": 17,
   "metadata": {},
   "outputs": [
    {
     "data": {
      "text/plain": [
       "[['a', 10.0], ['b', 10.0]]"
      ]
     },
     "execution_count": 17,
     "metadata": {},
     "output_type": "execute_result"
    }
   ],
   "source": [
    "sec_low(stud_list)"
   ]
  },
  {
   "cell_type": "code",
   "execution_count": 16,
   "metadata": {},
   "outputs": [
    {
     "data": {
      "text/plain": [
       "[['d', 9.0], ['e', 9.0]]"
      ]
     },
     "execution_count": 16,
     "metadata": {},
     "output_type": "execute_result"
    }
   ],
   "source": [
    "lowest(stud_list)"
   ]
  },
  {
   "cell_type": "code",
   "execution_count": null,
   "metadata": {},
   "outputs": [],
   "source": []
  }
 ],
 "metadata": {
  "kernelspec": {
   "display_name": "Python 3",
   "language": "python",
   "name": "python3"
  },
  "language_info": {
   "codemirror_mode": {
    "name": "ipython",
    "version": 3
   },
   "file_extension": ".py",
   "mimetype": "text/x-python",
   "name": "python",
   "nbconvert_exporter": "python",
   "pygments_lexer": "ipython3",
   "version": "3.8.5"
  }
 },
 "nbformat": 4,
 "nbformat_minor": 4
}
