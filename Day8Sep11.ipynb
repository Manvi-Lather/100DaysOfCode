{
 "cells": [
  {
   "cell_type": "code",
   "execution_count": null,
   "id": "859dabff",
   "metadata": {},
   "outputs": [],
   "source": [
    "#Task\n",
    "#Read a given string, change the character at a given index and then\n",
    "#print the modified string."
   ]
  },
  {
   "cell_type": "code",
   "execution_count": 21,
   "id": "e1cf9395",
   "metadata": {},
   "outputs": [],
   "source": [
    "#Approach 1: Using join method  \n",
    "\n",
    "def mutate_string(string, position, character):\n",
    "    l=list(string)\n",
    "    l[position]=character\n",
    "    result=''.join(l)\n",
    "    return result"
   ]
  },
  {
   "cell_type": "code",
   "execution_count": 42,
   "id": "2a297cf7",
   "metadata": {},
   "outputs": [
    {
     "name": "stdout",
     "output_type": "stream",
     "text": [
      "enter the string: Manvi\n",
      "enter the position and enter the new character3 n\n",
      "Mannvi\n"
     ]
    }
   ],
   "source": [
    "#calling function: \n",
    "s = input(\"enter the string: \")\n",
    "i, c = input(\"enter the position and enter the new character\").split()\n",
    "s_new = mutate_string(s, int(i), c)\n",
    "print(s_new)"
   ]
  },
  {
   "cell_type": "code",
   "execution_count": 45,
   "id": "a9236889",
   "metadata": {},
   "outputs": [],
   "source": [
    "#Approach 2 : Using slicing \n",
    "\n",
    "def mutate_string(string, position, character):\n",
    "    one=string[:position]\n",
    "    next_position=(position+1)\n",
    "    two=string[next_position:]\n",
    "    result=one+character+two\n",
    "    return result\n"
   ]
  },
  {
   "cell_type": "code",
   "execution_count": 46,
   "id": "b38a6781",
   "metadata": {},
   "outputs": [
    {
     "name": "stdout",
     "output_type": "stream",
     "text": [
      "enter the string: manvi\n",
      "enter the position and enter the new character3 n\n",
      "manni\n"
     ]
    }
   ],
   "source": [
    "#calling function: \n",
    "s = input(\"enter the string: \")\n",
    "i, c = input(\"enter the position and enter the new character\").split()\n",
    "s_new = mutate_string(s, int(i), c)\n",
    "print(s_new)"
   ]
  },
  {
   "cell_type": "code",
   "execution_count": 55,
   "id": "62bae8eb",
   "metadata": {},
   "outputs": [],
   "source": [
    "# Approach 2.0\n",
    "\n",
    "def mutate_string(string, position, character):\n",
    "   \n",
    "    result=string[:position]+character+string[position+1:]\n",
    "    return result"
   ]
  },
  {
   "cell_type": "code",
   "execution_count": 56,
   "id": "27f77b81",
   "metadata": {},
   "outputs": [
    {
     "data": {
      "text/plain": [
       "'manni'"
      ]
     },
     "execution_count": 56,
     "metadata": {},
     "output_type": "execute_result"
    }
   ],
   "source": [
    "mutate_string(\"manvi\",3,\"n\")"
   ]
  },
  {
   "cell_type": "code",
   "execution_count": null,
   "id": "48fa5b4b",
   "metadata": {},
   "outputs": [],
   "source": []
  }
 ],
 "metadata": {
  "kernelspec": {
   "display_name": "Python 3 (ipykernel)",
   "language": "python",
   "name": "python3"
  },
  "language_info": {
   "codemirror_mode": {
    "name": "ipython",
    "version": 3
   },
   "file_extension": ".py",
   "mimetype": "text/x-python",
   "name": "python",
   "nbconvert_exporter": "python",
   "pygments_lexer": "ipython3",
   "version": "3.9.7"
  }
 },
 "nbformat": 4,
 "nbformat_minor": 5
}
