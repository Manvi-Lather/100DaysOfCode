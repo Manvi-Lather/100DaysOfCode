{
 "cells": [
  {
   "cell_type": "code",
   "execution_count": null,
   "id": "aeccce81",
   "metadata": {},
   "outputs": [],
   "source": [
    "#Task\n",
    "#Read a given string, change the character at a given index and then\n",
    "#print the modified string."
   ]
  },
  {
   "cell_type": "code",
   "execution_count": 21,
   "id": "5743eb7c",
   "metadata": {},
   "outputs": [],
   "source": [
    "#Approach 1: Using join method  \n",
    "\n",
    "def mutate_string(string, position, character):\n",
    "    l=list(string)\n",
    "    l[position]=character\n",
    "    result=''.join(l)\n",
    "    return result"
   ]
  },
  {
   "cell_type": "code",
   "execution_count": 42,
   "id": "b5757a7a",
   "metadata": {},
   "outputs": [
    {
     "name": "stdout",
     "output_type": "stream",
     "text": [
      "enter the string: Manvi\n",
      "enter the position and enter the new character3 n\n",
      "Mannvi\n"
     ]
    }
   ],
   "source": [
    "#calling function: \n",
    "s = input(\"enter the string: \")\n",
    "i, c = input(\"enter the position and enter the new character\").split()\n",
    "s_new = mutate_string(s, int(i), c)\n",
    "print(s_new)"
   ]
  },
  {
   "cell_type": "code",
   "execution_count": 45,
   "id": "c085a546",
   "metadata": {},
   "outputs": [],
   "source": [
    "#Approach 2 : Using slicing \n",
    "\n",
    "def mutate_string(string, position, character):\n",
    "    one=string[:position]\n",
    "    next_position=(position+1)\n",
    "    two=string[next_position:]\n",
    "    result=one+character+two\n",
    "    return result\n"
   ]
  },
  {
   "cell_type": "code",
   "execution_count": 46,
   "id": "afaac197",
   "metadata": {},
   "outputs": [
    {
     "name": "stdout",
     "output_type": "stream",
     "text": [
      "enter the string: manvi\n",
      "enter the position and enter the new character3 n\n",
      "manni\n"
     ]
    }
   ],
   "source": [
    "#calling function: \n",
    "s = input(\"enter the string: \")\n",
    "i, c = input(\"enter the position and enter the new character\").split()\n",
    "s_new = mutate_string(s, int(i), c)\n",
    "print(s_new)"
   ]
  },
  {
   "cell_type": "code",
   "execution_count": 47,
   "id": "64383480",
   "metadata": {},
   "outputs": [],
   "source": [
    "# Approach 2.0\n",
    "\n",
    "def mutate_string(string, position, character):\n",
    "   \n",
    "    result=string[:postion]+character+string[intposition+1:]\n",
    "    return result"
   ]
  },
  {
   "cell_type": "code",
   "execution_count": 48,
   "id": "cac6593a",
   "metadata": {},
   "outputs": [
    {
     "ename": "NameError",
     "evalue": "name 'postion' is not defined",
     "output_type": "error",
     "traceback": [
      "\u001b[1;31m---------------------------------------------------------------------------\u001b[0m",
      "\u001b[1;31mNameError\u001b[0m                                 Traceback (most recent call last)",
      "\u001b[1;32m~\\AppData\\Local\\Temp/ipykernel_2588/1757618038.py\u001b[0m in \u001b[0;36m<module>\u001b[1;34m\u001b[0m\n\u001b[1;32m----> 1\u001b[1;33m \u001b[0mmutate_string\u001b[0m\u001b[1;33m(\u001b[0m\u001b[1;34m\"manvi\"\u001b[0m\u001b[1;33m,\u001b[0m\u001b[1;36m3\u001b[0m\u001b[1;33m,\u001b[0m\u001b[1;34m\"n\"\u001b[0m\u001b[1;33m)\u001b[0m\u001b[1;33m\u001b[0m\u001b[1;33m\u001b[0m\u001b[0m\n\u001b[0m",
      "\u001b[1;32m~\\AppData\\Local\\Temp/ipykernel_2588/1457483775.py\u001b[0m in \u001b[0;36mmutate_string\u001b[1;34m(string, position, character)\u001b[0m\n\u001b[0;32m      3\u001b[0m \u001b[1;32mdef\u001b[0m \u001b[0mmutate_string\u001b[0m\u001b[1;33m(\u001b[0m\u001b[0mstring\u001b[0m\u001b[1;33m,\u001b[0m \u001b[0mposition\u001b[0m\u001b[1;33m,\u001b[0m \u001b[0mcharacter\u001b[0m\u001b[1;33m)\u001b[0m\u001b[1;33m:\u001b[0m\u001b[1;33m\u001b[0m\u001b[1;33m\u001b[0m\u001b[0m\n\u001b[0;32m      4\u001b[0m \u001b[1;33m\u001b[0m\u001b[0m\n\u001b[1;32m----> 5\u001b[1;33m     \u001b[0mresult\u001b[0m\u001b[1;33m=\u001b[0m\u001b[0mstring\u001b[0m\u001b[1;33m[\u001b[0m\u001b[1;33m:\u001b[0m\u001b[0mpostion\u001b[0m\u001b[1;33m]\u001b[0m\u001b[1;33m+\u001b[0m\u001b[0mcharacter\u001b[0m\u001b[1;33m+\u001b[0m\u001b[0mstring\u001b[0m\u001b[1;33m[\u001b[0m\u001b[0mposition\u001b[0m\u001b[1;33m+\u001b[0m\u001b[1;36m1\u001b[0m\u001b[1;33m:\u001b[0m\u001b[1;33m]\u001b[0m\u001b[1;33m\u001b[0m\u001b[1;33m\u001b[0m\u001b[0m\n\u001b[0m\u001b[0;32m      6\u001b[0m     \u001b[1;32mreturn\u001b[0m \u001b[0mresult\u001b[0m\u001b[1;33m\u001b[0m\u001b[1;33m\u001b[0m\u001b[0m\n",
      "\u001b[1;31mNameError\u001b[0m: name 'postion' is not defined"
     ]
    }
   ],
   "source": [
    "mutate_string(\"manvi\",3,\"n\")"
   ]
  },
  {
   "cell_type": "code",
   "execution_count": null,
   "id": "638bdb55",
   "metadata": {},
   "outputs": [],
   "source": []
  }
 ],
 "metadata": {
  "kernelspec": {
   "display_name": "Python 3 (ipykernel)",
   "language": "python",
   "name": "python3"
  },
  "language_info": {
   "codemirror_mode": {
    "name": "ipython",
    "version": 3
   },
   "file_extension": ".py",
   "mimetype": "text/x-python",
   "name": "python",
   "nbconvert_exporter": "python",
   "pygments_lexer": "ipython3",
   "version": "3.9.7"
  }
 },
 "nbformat": 4,
 "nbformat_minor": 5
}
