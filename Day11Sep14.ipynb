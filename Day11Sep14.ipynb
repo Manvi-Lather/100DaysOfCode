{
 "cells": [
  {
   "cell_type": "code",
   "execution_count": null,
   "id": "e0c0c4e5",
   "metadata": {},
   "outputs": [],
   "source": [
    "#class syntax\n",
    "\n",
    "class NameOfClass(): \n",
    "    \n",
    "    \n",
    "    def __init__(self,param1,param2): \n",
    "        \n",
    "        #define attributes\n",
    "        \n",
    "        self.param1=param1\n",
    "        self.param2=param2\n",
    "        \n",
    "    def some_method(self):\n",
    "        #perfrom some action/Methods\n",
    "        print(self.param1)\n",
    "        \n",
    "        "
   ]
  },
  {
   "cell_type": "code",
   "execution_count": 2,
   "id": "372d6304",
   "metadata": {},
   "outputs": [],
   "source": [
    "mylist=[1,2,3]"
   ]
  },
  {
   "cell_type": "code",
   "execution_count": 17,
   "id": "968ef247",
   "metadata": {},
   "outputs": [
    {
     "data": {
      "text/plain": [
       "list"
      ]
     },
     "execution_count": 17,
     "metadata": {},
     "output_type": "execute_result"
    }
   ],
   "source": [
    "type(mylist)"
   ]
  },
  {
   "cell_type": "code",
   "execution_count": 4,
   "id": "f235bdce",
   "metadata": {},
   "outputs": [],
   "source": [
    "myset=set()\n"
   ]
  },
  {
   "cell_type": "code",
   "execution_count": 5,
   "id": "07517380",
   "metadata": {},
   "outputs": [
    {
     "data": {
      "text/plain": [
       "set"
      ]
     },
     "execution_count": 5,
     "metadata": {},
     "output_type": "execute_result"
    }
   ],
   "source": [
    "type(myset)"
   ]
  },
  {
   "cell_type": "code",
   "execution_count": 9,
   "id": "99f9a8e2",
   "metadata": {},
   "outputs": [],
   "source": [
    "class Sample(): \n",
    "    pass"
   ]
  },
  {
   "cell_type": "code",
   "execution_count": 11,
   "id": "401a318e",
   "metadata": {},
   "outputs": [
    {
     "data": {
      "text/plain": [
       "__main__.Sample"
      ]
     },
     "execution_count": 11,
     "metadata": {},
     "output_type": "execute_result"
    }
   ],
   "source": [
    "my_sample = Sample()\n",
    "\n",
    "type(my_sample)"
   ]
  },
  {
   "cell_type": "code",
   "execution_count": 85,
   "id": "b544ea09",
   "metadata": {},
   "outputs": [],
   "source": [
    "class Dog(): \n",
    "    \n",
    "    #class objects attributes \n",
    "    #same for any instance of a class\n",
    "    \n",
    "    species=\"mammal\"\n",
    " \n",
    "    \n",
    "    def __init__(self,breed,name,spots): \n",
    "        \n",
    "       \n",
    "        #create attributes\n",
    "        self.breed=breed\n",
    "        self.name = name\n",
    "        self.spots=spots #expect boolean True/False\n",
    "        \n",
    "    #operations/actions --> method\n",
    "    \n",
    "    def bark(self):\n",
    "        print(\"woof!\")\n",
    "        \n",
    "        \n",
    "    "
   ]
  },
  {
   "cell_type": "code",
   "execution_count": 86,
   "id": "33523fa8",
   "metadata": {},
   "outputs": [],
   "source": [
    "mydog=Dog(breed=\"lab\",name=\"Tom\",spots=False)"
   ]
  },
  {
   "cell_type": "code",
   "execution_count": 87,
   "id": "99f77dc2",
   "metadata": {},
   "outputs": [
    {
     "data": {
      "text/plain": [
       "__main__.Dog"
      ]
     },
     "execution_count": 87,
     "metadata": {},
     "output_type": "execute_result"
    }
   ],
   "source": [
    "type(mydog)"
   ]
  },
  {
   "cell_type": "code",
   "execution_count": 88,
   "id": "3bd78fed",
   "metadata": {},
   "outputs": [
    {
     "data": {
      "text/plain": [
       "'lab'"
      ]
     },
     "execution_count": 88,
     "metadata": {},
     "output_type": "execute_result"
    }
   ],
   "source": [
    "mydog.breed"
   ]
  },
  {
   "cell_type": "code",
   "execution_count": 89,
   "id": "03d177af",
   "metadata": {},
   "outputs": [
    {
     "data": {
      "text/plain": [
       "'Tom'"
      ]
     },
     "execution_count": 89,
     "metadata": {},
     "output_type": "execute_result"
    }
   ],
   "source": [
    "mydog.name"
   ]
  },
  {
   "cell_type": "code",
   "execution_count": 90,
   "id": "7323f400",
   "metadata": {},
   "outputs": [
    {
     "data": {
      "text/plain": [
       "'mammal'"
      ]
     },
     "execution_count": 90,
     "metadata": {},
     "output_type": "execute_result"
    }
   ],
   "source": [
    "mydog.species"
   ]
  },
  {
   "cell_type": "code",
   "execution_count": 91,
   "id": "e41f11c6",
   "metadata": {},
   "outputs": [
    {
     "name": "stdout",
     "output_type": "stream",
     "text": [
      "woof!\n"
     ]
    }
   ],
   "source": [
    "mydog.bark()"
   ]
  },
  {
   "cell_type": "code",
   "execution_count": 104,
   "id": "9e6b0faa",
   "metadata": {},
   "outputs": [],
   "source": [
    "# Part 1: Object Oriented Programming\n",
    "#calculate slope and distance \n",
    "\n",
    "class Line: \n",
    "    \n",
    "    def __init__(self,coor1,coor2): \n",
    "        #attributes \n",
    "        self.coor1=coor1\n",
    "        self.coor2=coor2\n",
    "    #methods\n",
    "    \n",
    "    def distance(self): \n",
    "        \n",
    "        x1,y1=self.coor1 #tuple unpacking\n",
    "        x2,y2=self.coor2\n",
    "        \n",
    "        return((x2-x1)**2+(y2-y1)**2)**0.5\n",
    "    \n",
    "    def slope(self): \n",
    "        \n",
    "         \n",
    "        x1,y1=self.coor1\n",
    "        x2,y2=self.coor2\n",
    "        \n",
    "        return (y2-y1)/(x2-x1)\n",
    "    \n",
    "    \n",
    "        "
   ]
  },
  {
   "cell_type": "code",
   "execution_count": 105,
   "id": "c87f07e0",
   "metadata": {},
   "outputs": [],
   "source": [
    "c1=(3,2)\n",
    "c2=(8,10)\n",
    "\n",
    "myline=Line(c1,c2)"
   ]
  },
  {
   "cell_type": "code",
   "execution_count": 106,
   "id": "51f6c050",
   "metadata": {},
   "outputs": [
    {
     "data": {
      "text/plain": [
       "9.433981132056603"
      ]
     },
     "execution_count": 106,
     "metadata": {},
     "output_type": "execute_result"
    }
   ],
   "source": [
    "myline.distance()\n"
   ]
  },
  {
   "cell_type": "code",
   "execution_count": 113,
   "id": "da1ed6ad",
   "metadata": {},
   "outputs": [
    {
     "data": {
      "text/plain": [
       "1.6"
      ]
     },
     "execution_count": 113,
     "metadata": {},
     "output_type": "execute_result"
    }
   ],
   "source": [
    "myline.slope()"
   ]
  },
  {
   "cell_type": "code",
   "execution_count": 134,
   "id": "1ebd213e",
   "metadata": {},
   "outputs": [],
   "source": [
    "#calculate surface area of cylinder\n",
    "\n",
    "\n",
    "class Cylinder:\n",
    "    \n",
    "    def __init__(self,height=1,radius=1): \n",
    "        \n",
    "        self.height=height\n",
    "        self.radius= radius\n",
    "         \n",
    "            \n",
    "    def volume(self): \n",
    "        \n",
    "        return self.height * 3.14 * (self.radius)**2\n",
    "        \n",
    "    def Surface_area(self): \n",
    "        \n",
    "        top=3.14*(self.radius**2)\n",
    "        return (2*top)+(2 * 3.14 * self.radius* self.height)\n",
    "        \n",
    "        \n",
    "        \n",
    "        "
   ]
  },
  {
   "cell_type": "code",
   "execution_count": 135,
   "id": "9e6fd40d",
   "metadata": {},
   "outputs": [],
   "source": [
    "mycyl = Cylinder(2,3)"
   ]
  },
  {
   "cell_type": "code",
   "execution_count": 136,
   "id": "85f109b3",
   "metadata": {},
   "outputs": [
    {
     "data": {
      "text/plain": [
       "56.52"
      ]
     },
     "execution_count": 136,
     "metadata": {},
     "output_type": "execute_result"
    }
   ],
   "source": [
    "mycyl.volume()"
   ]
  },
  {
   "cell_type": "code",
   "execution_count": 137,
   "id": "79a2783b",
   "metadata": {},
   "outputs": [
    {
     "data": {
      "text/plain": [
       "94.2"
      ]
     },
     "execution_count": 137,
     "metadata": {},
     "output_type": "execute_result"
    }
   ],
   "source": [
    "mycyl.Surface_area()"
   ]
  },
  {
   "cell_type": "code",
   "execution_count": 138,
   "id": "07d02692",
   "metadata": {},
   "outputs": [],
   "source": [
    "# Part 2:2 D plots"
   ]
  },
  {
   "cell_type": "code",
   "execution_count": null,
   "id": "74d824e1",
   "metadata": {},
   "outputs": [],
   "source": []
  }
 ],
 "metadata": {
  "kernelspec": {
   "display_name": "Python 3 (ipykernel)",
   "language": "python",
   "name": "python3"
  },
  "language_info": {
   "codemirror_mode": {
    "name": "ipython",
    "version": 3
   },
   "file_extension": ".py",
   "mimetype": "text/x-python",
   "name": "python",
   "nbconvert_exporter": "python",
   "pygments_lexer": "ipython3",
   "version": "3.9.7"
  }
 },
 "nbformat": 4,
 "nbformat_minor": 5
}
