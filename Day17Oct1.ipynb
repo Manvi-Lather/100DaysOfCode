{
 "cells": [
  {
   "cell_type": "code",
   "execution_count": null,
   "id": "13eb888b",
   "metadata": {},
   "outputs": [],
   "source": [
    "#https://www.hackerrank.com/challenges/finding-the-percentage/problem"
   ]
  },
  {
   "cell_type": "code",
   "execution_count": 11,
   "id": "b5494b05",
   "metadata": {},
   "outputs": [
    {
     "name": "stdout",
     "output_type": "stream",
     "text": [
      "enter the number of students: 2\n"
     ]
    }
   ],
   "source": [
    "n= int(input(\"enter the number of students: \"))"
   ]
  },
  {
   "cell_type": "code",
   "execution_count": 12,
   "id": "2044fd07",
   "metadata": {},
   "outputs": [],
   "source": [
    "student_marks={}"
   ]
  },
  {
   "cell_type": "code",
   "execution_count": 13,
   "id": "fad14349",
   "metadata": {},
   "outputs": [],
   "source": [
    "#name,*marks = input().split()\n",
    "#print(name)\n",
    "#print(*marks)"
   ]
  },
  {
   "cell_type": "code",
   "execution_count": 21,
   "id": "25157dea",
   "metadata": {},
   "outputs": [
    {
     "name": "stdout",
     "output_type": "stream",
     "text": [
      "manvi 76 87 76\n",
      "sun 87 65 87\n",
      "enter the name of student:manvi\n",
      "79.67\n"
     ]
    }
   ],
   "source": [
    "for i in range(n): \n",
    "    name,*marks = input().split()\n",
    "    scores=list(map(float,marks))\n",
    "    student_marks[name] = scores\n",
    "query_name= input(\"enter the name of student:\")\n",
    "total_marks=sum(student_marks[query_name])\n",
    "average_marks=total_marks/3\n",
    "print(\"%.2f\"%(average_marks))\n",
    "    \n"
   ]
  },
  {
   "cell_type": "code",
   "execution_count": null,
   "id": "f7c6ade1",
   "metadata": {},
   "outputs": [],
   "source": []
  }
 ],
 "metadata": {
  "kernelspec": {
   "display_name": "Python 3 (ipykernel)",
   "language": "python",
   "name": "python3"
  },
  "language_info": {
   "codemirror_mode": {
    "name": "ipython",
    "version": 3
   },
   "file_extension": ".py",
   "mimetype": "text/x-python",
   "name": "python",
   "nbconvert_exporter": "python",
   "pygments_lexer": "ipython3",
   "version": "3.9.7"
  }
 },
 "nbformat": 4,
 "nbformat_minor": 5
}
