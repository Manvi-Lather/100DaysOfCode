{
 "cells": [
  {
   "cell_type": "markdown",
   "metadata": {},
   "source": [
    "#Find the Runner-Up Score!"
   ]
  },
  {
   "cell_type": "code",
   "execution_count": 31,
   "metadata": {},
   "outputs": [
    {
     "name": "stdout",
     "output_type": "stream",
     "text": [
      "3\n",
      "1 -1 -2\n",
      "-1\n"
     ]
    }
   ],
   "source": [
    "if __name__ == '__main__':\n",
    "    n = int(input())\n",
    "    arr = map(int, input().split())\n",
    "    def max(arr):\n",
    "        max=arr[0]\n",
    "        for i in arr:\n",
    "            if i >max:\n",
    "                max=i\n",
    "        return max\n",
    "    def sec_max(arr): \n",
    "        max_num = max(arr)\n",
    "        sec_list=[]\n",
    "        for i in arr: \n",
    "            if i < max_num: \n",
    "                sec_list.append(i)\n",
    "        return max(sec_list)\n",
    "            \n",
    "\n",
    "    \n",
    "    \n",
    "    print(sec_max(list(arr)))"
   ]
  }
 ],
 "metadata": {
  "kernelspec": {
   "display_name": "Python 3",
   "language": "python",
   "name": "python3"
  },
  "language_info": {
   "codemirror_mode": {
    "name": "ipython",
    "version": 3
   },
   "file_extension": ".py",
   "mimetype": "text/x-python",
   "name": "python",
   "nbconvert_exporter": "python",
   "pygments_lexer": "ipython3",
   "version": "3.8.5"
  }
 },
 "nbformat": 4,
 "nbformat_minor": 4
}
