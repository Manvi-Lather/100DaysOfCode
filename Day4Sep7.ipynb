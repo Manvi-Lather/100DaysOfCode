{
 "cells": [
  {
   "cell_type": "code",
   "execution_count": 46,
   "id": "67fb68b5",
   "metadata": {},
   "outputs": [
    {
     "name": "stdout",
     "output_type": "stream",
     "text": [
      "enter the value of n: 3\n",
      "enter n numbers with space: 1 2 3\n",
      "hash_value 529344067295497451\n"
     ]
    }
   ],
   "source": [
    "n = int(input(\"enter the value of n: \"))\n",
    "integer_list = map(int, input(\"enter n numbers with space: \").split())\n",
    "tup=tuple(integer_list)\n",
    "result=hash(tup)\n",
    "print(\"hash_value: \",result)"
   ]
  },
  {
   "cell_type": "code",
   "execution_count": null,
   "id": "8baa759e",
   "metadata": {},
   "outputs": [],
   "source": []
  }
 ],
 "metadata": {
  "kernelspec": {
   "display_name": "Python 3 (ipykernel)",
   "language": "python",
   "name": "python3"
  },
  "language_info": {
   "codemirror_mode": {
    "name": "ipython",
    "version": 3
   },
   "file_extension": ".py",
   "mimetype": "text/x-python",
   "name": "python",
   "nbconvert_exporter": "python",
   "pygments_lexer": "ipython3",
   "version": "3.9.7"
  }
 },
 "nbformat": 4,
 "nbformat_minor": 5
}
